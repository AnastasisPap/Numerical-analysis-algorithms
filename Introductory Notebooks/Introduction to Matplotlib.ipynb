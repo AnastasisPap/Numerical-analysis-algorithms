{
 "cells": [
  {
   "cell_type": "markdown",
   "metadata": {},
   "source": [
    "<h6>Import packages</h6>"
   ]
  },
  {
   "cell_type": "code",
   "execution_count": null,
   "metadata": {},
   "outputs": [],
   "source": [
    "import numpy as np\n",
    "import matplotlib.pyplot as plt"
   ]
  },
  {
   "cell_type": "markdown",
   "metadata": {},
   "source": [
    "<h6>Graph points</h6>"
   ]
  },
  {
   "cell_type": "code",
   "execution_count": null,
   "metadata": {},
   "outputs": [],
   "source": [
    "plt.plot([1, 2, 3, 4], [1, 4, 9, 16])\n",
    "plt.show()"
   ]
  },
  {
   "cell_type": "code",
   "execution_count": null,
   "metadata": {},
   "outputs": [],
   "source": [
    "plt.plot([1, 2, 3, 4], [1, 4, 9, 16], '+')\n",
    "plt.show()"
   ]
  },
  {
   "cell_type": "markdown",
   "metadata": {},
   "source": [
    "<h6>Styling the graph</h6>"
   ]
  },
  {
   "cell_type": "code",
   "execution_count": null,
   "metadata": {
    "scrolled": true
   },
   "outputs": [],
   "source": [
    "x = np.array([1, 2, 3, 4, 5])\n",
    "\n",
    "plt.plot(x)\n",
    "plt.plot(x, label='x')\n",
    "plt.yscale('log')\n",
    "plt.title('Testing plot', loc = 'right')\n",
    "plt.xlabel('x')\n",
    "plt.ylabel('y')\n",
    "plt.grid()\n",
    "plt.text(2, 4, 'something')\n",
    "plt.annotate('see here', xy = (3, 4), xytext = (2, 2), arrowprops = dict(facecolor='black'))\n",
    "plt.legend()\n",
    "\n",
    "plt.plot(x**2)\n",
    "plt.plot(x, x)\n",
    "\n",
    "plt.plot(x, color = 'red', linestyle='--', linewidth=1, marker='*')\n",
    "plt.plot(x, 'g--')\n",
    "\n",
    "plt.show()"
   ]
  },
  {
   "cell_type": "code",
   "execution_count": null,
   "metadata": {},
   "outputs": [],
   "source": [
    "t = np.linspace(0, 1, 100)\n",
    "plt.plot(t, t, 'r--', t, t**2, 'bs', t, t**3, 'g^')\n",
    "plt.show()"
   ]
  },
  {
   "cell_type": "code",
   "execution_count": null,
   "metadata": {},
   "outputs": [],
   "source": [
    "x = np.linspace(-10, 10, 1000)\n",
    "plt.plot(x, np.log(x), label='x=log(x)')\n",
    "plt.plot(x, np.sin(x), label='x=sin(x)', color='g')\n",
    "plt.legend()\n",
    "plt.xlabel('x')\n",
    "plt.ylabel('y')\n",
    "plt.title('log and sin')\n",
    "plt.show()"
   ]
  },
  {
   "cell_type": "code",
   "execution_count": null,
   "metadata": {},
   "outputs": [],
   "source": [
    "x = np.linspace(0, 5, 50)\n",
    "\n",
    "fig, ax = plt.subplots(figsize=(10, 10))\n",
    "ax.plot(x, 'o', label='first')\n",
    "ax.plot(x**2, 'd', label = 'second')\n",
    "ax.plot(x**3, 'v', label = 'third')\n",
    "ax.plot(x**4, 's', label = 'fourth')\n",
    "ax.text(10, 100, 'something')\n",
    "ax.grid()\n",
    "ax.legend(loc='lower left')\n",
    "\n",
    "plt.show()"
   ]
  },
  {
   "cell_type": "markdown",
   "metadata": {},
   "source": [
    "<h6>Graph multiple plots</h6>"
   ]
  },
  {
   "cell_type": "code",
   "execution_count": null,
   "metadata": {},
   "outputs": [],
   "source": [
    "x = np.linspace(0, 5, 50)\n",
    "\n",
    "plt.figure()\n",
    "plt.subplot(2, 1, 1)\n",
    "plt.plot(x, np.sin(6 * x), 'b:')\n",
    "plt.ylabel('sin6x')\n",
    "plt.xlabel('up x')\n",
    "\n",
    "plt.subplot(2, 1, 2)\n",
    "plt.plot(x, np.cos(2 * x), 'r--')\n",
    "plt.ylabel('cos2x')\n",
    "plt.xlabel('down x')\n",
    "\n",
    "plt.show()"
   ]
  },
  {
   "cell_type": "code",
   "execution_count": null,
   "metadata": {},
   "outputs": [],
   "source": [
    "plt.figure(figsize=(15, 10))\n",
    "plt.subplot(3, 3, 1)\n",
    "plt.plot(x)\n",
    "\n",
    "plt.subplot(3, 3, 8)\n",
    "plt.plot(x ** 2)\n",
    "plt.show()"
   ]
  },
  {
   "cell_type": "code",
   "execution_count": null,
   "metadata": {},
   "outputs": [],
   "source": [
    "plt.figure(1)\n",
    "plt.subplot(211)\n",
    "plt.plot([1, 2, 3])\n",
    "plt.subplot(212)\n",
    "plt.plot([4, 5, 6])\n",
    "\n",
    "plt.figure(2)\n",
    "plt.plot([4, 5, 6])\n",
    "plt.title('plot of fig2')\n",
    "\n",
    "plt.show()"
   ]
  },
  {
   "cell_type": "code",
   "execution_count": null,
   "metadata": {},
   "outputs": [],
   "source": [
    "x = np.linspace(0, 5, 50)\n",
    "plt.figure(figsize=(20,5))\n",
    "\n",
    "plt.subplot(2, 2, 1)\n",
    "plt.plot(x, np.sin(2 * np.pi * x), 'bo', label = 'a')\n",
    "plt.ylabel('sin')\n",
    "\n",
    "plt.subplot(2, 2, 2)\n",
    "plt.plot(x, np.cos(2 * np.pi * x), 'r--', label = 'b')\n",
    "plt.ylabel('cos')\n",
    "\n",
    "plt.subplot(2, 2, 3)\n",
    "plt.plot(x, -np.sin(2 * np.pi * x), 'mo', label = 'c')\n",
    "plt.ylabel('-sin')\n",
    "plt.subplot(2, 2, 4)\n",
    "plt.plot(x, -np.cos(2 * np.pi * x), 'g--', label='d')\n",
    "plt.ylabel('-cos')\n",
    "\n",
    "plt.legend()\n",
    "plt.show()"
   ]
  },
  {
   "cell_type": "markdown",
   "metadata": {},
   "source": [
    "<h6>Make multiple plots as arrays</h6>"
   ]
  },
  {
   "cell_type": "code",
   "execution_count": null,
   "metadata": {},
   "outputs": [],
   "source": [
    "x = np.linspace(0, 5, 50)\n",
    "\n",
    "fig, (axes) = plt.subplots(2, 1)\n",
    "\n",
    "fig.suptitle('Subplots referred with array')\n",
    "\n",
    "axes[0].plot(x, np.cos(x), 'bo')\n",
    "axes[0].set_ylabel('First')\n",
    "\n",
    "axes[1].plot(x, np.sin(x), 'r--')\n",
    "axes[1].set_ylabel('Second')\n",
    "axes[1].set_xlabel('x')\n",
    "\n",
    "plt.show()"
   ]
  },
  {
   "cell_type": "code",
   "execution_count": null,
   "metadata": {},
   "outputs": [],
   "source": [
    "data1, data2, data3, data4 = np.random.randn(4, 100)\n",
    "\n",
    "fig, (ax1, ax2) = plt.subplots(1, 2, figsize=(5, 2.7))\n",
    "ax1.plot(data1, data2, marker='x', c='m')\n",
    "ax2.plot(data3, data4, marker='*', c='r')\n",
    "plt.show()"
   ]
  },
  {
   "cell_type": "code",
   "execution_count": null,
   "metadata": {},
   "outputs": [],
   "source": [
    "x = np.linspace(0, 5, 50)\n",
    "fig, (axes) = plt.subplots(3, 2, figsize=(10, 10))\n",
    "\n",
    "fig.suptitle('Subplots referred with array')\n",
    "axes[0][1].plot(x, x, 'b:')\n",
    "axes[0][1].set_ylabel('First')\n",
    "axes[0][1].set_title('First Plot')\n",
    "\n",
    "axes[1][1].set_title('Empty plot')\n",
    "\n",
    "axes[1][0].plot(4 * x, x + 5, 'r--')\n",
    "axes[1][0].set_ylabel('Second')\n",
    "axes[1][0].set_xlabel('x')\n",
    "\n",
    "axes[2][0].plot(x, x ** 4, 'g*')\n",
    "axes[2][0].set_ylabel('Third')\n",
    "axes[2][0].set_xlabel('x')\n",
    "axes[2][0].set_yscale('log')\n",
    "\n",
    "plt.show()"
   ]
  },
  {
   "cell_type": "markdown",
   "metadata": {},
   "source": [
    "<h6>Add titles using LaTeX</h6>"
   ]
  },
  {
   "cell_type": "code",
   "execution_count": null,
   "metadata": {},
   "outputs": [],
   "source": [
    "plt.plot(np.sqrt(x))\n",
    "plt.xlabel('x')\n",
    "plt.ylabel(r'$\\sqrt{x}$')\n",
    "plt.show()\n",
    "\n",
    "plt.plot(x/2)\n",
    "plt.xlabel('x')\n",
    "plt.ylabel(r'$\\frac{x}{2}$')\n",
    "plt.show()\n",
    "\n",
    "plt.plot(np.exp(x))\n",
    "plt.ylabel(r'$e^{x}$')\n",
    "plt.show()\n",
    "\n",
    "plt.plot(x)\n",
    "plt.text(1, 1, r'$\\alpha_{i} > \\beta_{i}$')\n",
    "plt.title(r'$\\sum_{i=0}^\\infty\\alpha_{i}$')\n",
    "plt.show()"
   ]
  },
  {
   "cell_type": "markdown",
   "metadata": {},
   "source": [
    "<h6>Categorical plots</h6>"
   ]
  },
  {
   "cell_type": "code",
   "execution_count": null,
   "metadata": {},
   "outputs": [],
   "source": [
    "continents = ['Europe', 'America', 'Asia', 'Africa', 'Oceania']\n",
    "salary = [800, 1000, 100, 50, 900]\n",
    "\n",
    "plt.figure(figsize=(20, 5))\n",
    "\n",
    "plt.subplot(1, 3, 1)\n",
    "plt.bar(continents, salary)\n",
    "plt.subplot(1, 3, 2)\n",
    "plt.scatter(continents, salary)\n",
    "plt.subplot(1, 3, 3)\n",
    "plt.plot(continents, salary)\n",
    "plt.suptitle('Categorical Plotting')\n",
    "\n",
    "plt.show()"
   ]
  }
 ],
 "metadata": {
  "kernelspec": {
   "display_name": "Python 3",
   "language": "python",
   "name": "python3"
  },
  "language_info": {
   "codemirror_mode": {
    "name": "ipython",
    "version": 3
   },
   "file_extension": ".py",
   "mimetype": "text/x-python",
   "name": "python",
   "nbconvert_exporter": "python",
   "pygments_lexer": "ipython3",
   "version": "3.7.9"
  }
 },
 "nbformat": 4,
 "nbformat_minor": 4
}
